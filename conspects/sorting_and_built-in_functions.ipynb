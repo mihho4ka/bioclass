{
 "cells": [
  {
   "cell_type": "markdown",
   "id": "9cacc6c3",
   "metadata": {},
   "source": [
    "# Сортировки"
   ]
  },
  {
   "cell_type": "markdown",
   "id": "bfcbf534",
   "metadata": {},
   "source": [
    "> Этот конспект сделан в [Jupyter Notebook](https://jupyter.org). Рекоммендую установить вам его уже сейчас, т.к. вскоре он вам пригодится для решения домашки. Или использовать https://colab.research.google.com"
   ]
  },
  {
   "cell_type": "markdown",
   "id": "fe0571c0",
   "metadata": {},
   "source": [
    "Для сортировки по возрастанию достаточно вызвать функцию сортировки Python sorted(), которая вернёт новый отсортированный список"
   ]
  },
  {
   "cell_type": "code",
   "execution_count": 48,
   "id": "e71dce8d",
   "metadata": {},
   "outputs": [
    {
     "data": {
      "text/plain": [
       "[1, 2, 3, 4, 5]"
      ]
     },
     "execution_count": 48,
     "metadata": {},
     "output_type": "execute_result"
    }
   ],
   "source": [
    "sorted([5, 2, 3, 1, 4])"
   ]
  },
  {
   "cell_type": "markdown",
   "id": "fbe537a0",
   "metadata": {},
   "source": [
    "Также можно использовать метод списков list.sort(), который изменяет исходный список (и возвращает None во избежание путаницы). Обычно это не так удобно, как использование sorted(), но если вам не нужен исходный список, то так будет немного эффективнее:"
   ]
  },
  {
   "cell_type": "code",
   "execution_count": 87,
   "id": "cbb0b823",
   "metadata": {},
   "outputs": [
    {
     "name": "stdout",
     "output_type": "stream",
     "text": [
      "[5, 4, 3, 2, 1]\n"
     ]
    }
   ],
   "source": [
    "a = [5, 2, 3, 1, 4]\n",
    "a.sort(reverse=True)\n",
    "print(a)"
   ]
  },
  {
   "cell_type": "markdown",
   "id": "6856a2e1",
   "metadata": {},
   "source": [
    "Ещё одно отличие заключается в том, что метод list.sort() определён только для списков, в то время как sorted() работает со всеми итерируемыми объектами:"
   ]
  },
  {
   "cell_type": "code",
   "execution_count": 60,
   "id": "555dabd5",
   "metadata": {},
   "outputs": [
    {
     "data": {
      "text/plain": [
       "[1, 2, 3, 4, 5]"
      ]
     },
     "execution_count": 60,
     "metadata": {},
     "output_type": "execute_result"
    }
   ],
   "source": [
    "sorted({3: 'D', 2: 'B', 1: 'B', 5: 'E', 4: 'A'})"
   ]
  },
  {
   "cell_type": "markdown",
   "id": "863fb0ed",
   "metadata": {},
   "source": [
    "## Функции-ключи"
   ]
  },
  {
   "cell_type": "markdown",
   "id": "2bc24007",
   "metadata": {},
   "source": [
    "С версии Python 2.4 у list.sort() и sorted() появился параметр key для указания функции, которая будет вызываться на каждом элементе до сравнения. Вот регистронезависимое сравнение стр"
   ]
  },
  {
   "cell_type": "code",
   "execution_count": 72,
   "id": "bf29eb7d",
   "metadata": {},
   "outputs": [
    {
     "data": {
      "text/plain": [
       "['This', 'is', 'a', 'test', 'string', 'from', 'Andrew']"
      ]
     },
     "execution_count": 72,
     "metadata": {},
     "output_type": "execute_result"
    }
   ],
   "source": [
    "l = \"This is a test string from Andrew\".split()"
   ]
  },
  {
   "cell_type": "code",
   "execution_count": 73,
   "id": "ab013328",
   "metadata": {},
   "outputs": [],
   "source": [
    "for i in range(len(l)):\n",
    "    l[i] = f(l[i])"
   ]
  },
  {
   "cell_type": "code",
   "execution_count": 74,
   "id": "2cc9620f",
   "metadata": {},
   "outputs": [
    {
     "data": {
      "text/plain": [
       "['this', 'is', 'a', 'test', 'string', 'from', 'andrew']"
      ]
     },
     "execution_count": 74,
     "metadata": {},
     "output_type": "execute_result"
    }
   ],
   "source": [
    "l"
   ]
  },
  {
   "cell_type": "code",
   "execution_count": 75,
   "id": "0dbd5cb2",
   "metadata": {
    "scrolled": true
   },
   "outputs": [
    {
     "data": {
      "text/plain": [
       "['a', 'andrew', 'from', 'is', 'string', 'test', 'this']"
      ]
     },
     "execution_count": 75,
     "metadata": {},
     "output_type": "execute_result"
    }
   ],
   "source": [
    "sorted(l)"
   ]
  },
  {
   "cell_type": "code",
   "execution_count": 70,
   "id": "9b80a515",
   "metadata": {},
   "outputs": [],
   "source": [
    "def f(x):\n",
    "    return x.lower()"
   ]
  },
  {
   "cell_type": "code",
   "execution_count": null,
   "id": "b96f0581",
   "metadata": {},
   "outputs": [],
   "source": [
    "f = lambda x : x.lower()"
   ]
  },
  {
   "cell_type": "code",
   "execution_count": 76,
   "id": "405e21ff",
   "metadata": {},
   "outputs": [
    {
     "data": {
      "text/plain": [
       "['a', 'Andrew', 'from', 'is', 'string', 'test', 'This']"
      ]
     },
     "execution_count": 76,
     "metadata": {},
     "output_type": "execute_result"
    }
   ],
   "source": [
    "sorted(\"This is a test string from Andrew\".split(), key=lambda x : x.lower())"
   ]
  },
  {
   "cell_type": "code",
   "execution_count": 77,
   "id": "8547b24b",
   "metadata": {},
   "outputs": [],
   "source": [
    "student_tuples = [\n",
    "    ('john', 'A', 15),\n",
    "    ('jane', 'B', 12),\n",
    "    ('dave', 'B', 10),\n",
    "]"
   ]
  },
  {
   "cell_type": "code",
   "execution_count": 78,
   "id": "4feb6aed",
   "metadata": {},
   "outputs": [
    {
     "data": {
      "text/plain": [
       "[('dave', 'B', 10), ('jane', 'B', 12), ('john', 'A', 15)]"
      ]
     },
     "execution_count": 78,
     "metadata": {},
     "output_type": "execute_result"
    }
   ],
   "source": [
    "sorted(student_tuples)"
   ]
  },
  {
   "cell_type": "code",
   "execution_count": 82,
   "id": "9d917f74",
   "metadata": {},
   "outputs": [
    {
     "data": {
      "text/plain": [
       "[('dave', 'B', 10), ('jane', 'B', 12), ('john', 'A', 15)]"
      ]
     },
     "execution_count": 82,
     "metadata": {},
     "output_type": "execute_result"
    }
   ],
   "source": [
    "sorted(student_tuples, key=lambda student: student[2])"
   ]
  },
  {
   "cell_type": "markdown",
   "id": "3a97d61b",
   "metadata": {},
   "source": [
    "## Сортировка по возрастанию и убыванию"
   ]
  },
  {
   "cell_type": "code",
   "execution_count": 86,
   "id": "8f0be093",
   "metadata": {},
   "outputs": [
    {
     "data": {
      "text/plain": [
       "[('john', 'A', 15), ('jane', 'B', 12), ('dave', 'B', 10)]"
      ]
     },
     "execution_count": 86,
     "metadata": {},
     "output_type": "execute_result"
    }
   ],
   "source": [
    "sorted(student_tuples, key=lambda student: student[2], reverse=True)"
   ]
  },
  {
   "cell_type": "code",
   "execution_count": 85,
   "id": "c1d8f971",
   "metadata": {},
   "outputs": [
    {
     "data": {
      "text/plain": [
       "[('dave', 'B', 10), ('jane', 'B', 12), ('john', 'A', 15)]"
      ]
     },
     "execution_count": 85,
     "metadata": {},
     "output_type": "execute_result"
    }
   ],
   "source": [
    "sorted(student_tuples, key=lambda student: student[2], reverse=False)"
   ]
  },
  {
   "cell_type": "markdown",
   "id": "3a218205",
   "metadata": {},
   "source": [
    "[Источник](https://tproger.ru/translations/python-sorting/)"
   ]
  },
  {
   "cell_type": "markdown",
   "id": "729c9fb1",
   "metadata": {},
   "source": [
    "# Встроенные функции"
   ]
  },
  {
   "cell_type": "markdown",
   "id": "07beaa76",
   "metadata": {},
   "source": [
    "## Преобразование типов\n",
    "\n",
    "- `bool(x) `- преобразование к типу bool, использующая стандартную процедуру проверки истинности. Если х является ложным или опущен, возвращает значение False, в противном случае она возвращает True.\n",
    "- `bytearray([источник [, кодировка [ошибки]]]) `- преобразование к bytearray. Bytearray - изменяемая последовательность целых чисел в диапазоне 0≤X<256. Вызванная без аргументов, возвращает пустой массив байт.\n",
    "- `bytes([источник [, кодировка [ошибки]]]) `- возвращает объект типа bytes, который является неизменяемой последовательностью целых чисел в диапазоне 0≤X<256. Аргументы конструктора интерпретируются как для bytearray().\n",
    "- `complex([real[, imag]]) `- преобразование к комплексному числу.\n",
    "- `dict([object]) `- преобразование к словарю.\n",
    "- `float([X]) `- преобразование к числу с плавающей точкой. Если аргумент не указан, возвращается 0.0.\n",
    "- `frozenset([последовательность]) `- возвращает неизменяемое множество.\n",
    "- `int([object], [основание системы счисления]) `- преобразование к целому числу.\n",
    "- `list([object]) `- создает список.\n",
    "- `memoryview([object]) `- создает объект memoryview.\n",
    "- `object() `- возвращает безликий объект, являющийся базовым для всех объектов.\n",
    "- `range([start=0], stop, [step=1]) `- арифметическая прогрессия от start до stop с шагом step.\n",
    "- `set([object]) `- создает множество.\n",
    "- `slice([start=0], stop, [step=1]) `- объект среза от start до stop с шагом step.\n",
    "- `str([object], [кодировка], [ошибки]) `- строковое представление объекта. Использует метод __str__.\n",
    "- `tuple(obj) `- преобразование к кортежу."
   ]
  },
  {
   "cell_type": "code",
   "execution_count": 88,
   "id": "6a84fe56",
   "metadata": {},
   "outputs": [
    {
     "data": {
      "text/plain": [
       "True"
      ]
     },
     "execution_count": 88,
     "metadata": {},
     "output_type": "execute_result"
    }
   ],
   "source": [
    "bool(10)"
   ]
  },
  {
   "cell_type": "code",
   "execution_count": 89,
   "id": "eb461169",
   "metadata": {},
   "outputs": [
    {
     "data": {
      "text/plain": [
       "True"
      ]
     },
     "execution_count": 89,
     "metadata": {},
     "output_type": "execute_result"
    }
   ],
   "source": [
    "bool(-1)"
   ]
  },
  {
   "cell_type": "code",
   "execution_count": 90,
   "id": "437b0f01",
   "metadata": {},
   "outputs": [
    {
     "data": {
      "text/plain": [
       "False"
      ]
     },
     "execution_count": 90,
     "metadata": {},
     "output_type": "execute_result"
    }
   ],
   "source": [
    "bool(0)"
   ]
  },
  {
   "cell_type": "code",
   "execution_count": 91,
   "id": "6bf105ea",
   "metadata": {},
   "outputs": [
    {
     "data": {
      "text/plain": [
       "True"
      ]
     },
     "execution_count": 91,
     "metadata": {},
     "output_type": "execute_result"
    }
   ],
   "source": [
    "bool([1,1])"
   ]
  },
  {
   "cell_type": "code",
   "execution_count": 92,
   "id": "5b5418f8",
   "metadata": {},
   "outputs": [
    {
     "data": {
      "text/plain": [
       "True"
      ]
     },
     "execution_count": 92,
     "metadata": {},
     "output_type": "execute_result"
    }
   ],
   "source": [
    "bool([0])"
   ]
  },
  {
   "cell_type": "code",
   "execution_count": 93,
   "id": "7bd9c6ee",
   "metadata": {},
   "outputs": [
    {
     "data": {
      "text/plain": [
       "False"
      ]
     },
     "execution_count": 93,
     "metadata": {},
     "output_type": "execute_result"
    }
   ],
   "source": [
    "bool([])"
   ]
  },
  {
   "cell_type": "markdown",
   "id": "5dac448d",
   "metadata": {},
   "source": [
    "## Другие встроенные функции\n",
    "\n",
    "- `abs(x) `- Возвращает абсолютную величину (модуль числа).\n",
    "- `all(последовательность) `- Возвращает True, если все элементы истинные (или, если последовательность пуста).\n",
    "- `any(последовательность) `- Возвращает True, если хотя бы один элемент - истина. Для пустой последовательности возвращает False.\n",
    "- `ascii(object) `- Как repr(), возвращает строку, содержащую представление объекта, но заменяет не-ASCII символы на экранированные последовательности.\n",
    "- `bin(x) `- Преобразование целого числа в двоичную строку.\n",
    "- `callable(x) `- Возвращает True для объекта, поддерживающего вызов (как функции).\n",
    "- `chr(x) `- Возвращает односимвольную строку, код символа которой равен x.\n",
    "- `classmethod(x) `- Представляет указанную функцию методом класса.\n",
    "- `compile(source, filename, mode, flags=0, dont_inherit=False) `- Компиляция в программный код, который впоследствии может выполниться функцией eval или exec. Строка не должна содержать символов возврата каретки или нулевые байты.\n",
    "- `delattr(object, name) `- Удаляет атрибут с именем 'name'.\n",
    "- `dir([object]) `- Список имен объекта, а если объект не указан, список имен в текущей локальной области видимости.\n",
    "- `divmod(a, b) `- Возвращает частное и остаток от деления a на b.\n",
    "- `enumerate(iterable, start=0) `- Возвращает итератор, при каждом проходе предоставляющем кортеж из номера и соответствующего члена последовательности.\n",
    "- `eval(expression, globals=None, locals=None) `- Выполняет строку программного кода.\n",
    "- `exec(object[, globals[, locals]]) `- Выполняет программный код на Python.\n",
    "- `filter(function, iterable) `- Возвращает итератор из тех элементов, для которых function возвращает истину.\n",
    "- `format(value[,format_spec]) `- Форматирование (обычно форматирование строки).\n",
    "- `getattr(object, name ,[default]) `- извлекает атрибут объекта или default.\n",
    "- `globals() `- Словарь глобальных имен.\n",
    "- `hasattr(object, name) `- Имеет ли объект атрибут с именем 'name'.\n",
    "- `hash(x) `- Возвращает хеш указанного объекта.\n",
    "- `help([object]) `- Вызов встроенной справочной системы.\n",
    "- `hex(х) `- Преобразование целого числа в шестнадцатеричную строку.\n",
    "- `id(object) `- Возвращает \"адрес\" объекта. Это целое число, которое гарантированно будет уникальным и постоянным для данного объекта в течение срока его существования.\n",
    "- `input([prompt]) `- Возвращает введенную пользователем строку. Prompt - подсказка пользователю.\n",
    "- `isinstance(object, ClassInfo) `- Истина, если объект является экземпляром ClassInfo или его подклассом. Если объект не является объектом данного типа, функция всегда возвращает ложь.\n",
    "- `issubclass(класс, ClassInfo) `- Истина, если класс является подклассом ClassInfo. Класс считается подклассом себя.\n",
    "- `iter(x) `- Возвращает объект итератора.\n",
    "- `len(x) `- Возвращает число элементов в указанном объекте.\n",
    "- `locals() `- Словарь локальных имен.\n",
    "- `map(function, iterator) `- Итератор, получившийся после применения к каждому элементу последовательности функции function.\n",
    "- `max(iter, [args ...] * [, key]) `- Максимальный элемент последовательности.\n",
    "- `min(iter, [args ...] * [, key]) `- Минимальный элемент последовательности.\n",
    "- `next(x) `- Возвращает следующий элемент итератора.\n",
    "- `oct(х) `- Преобразование целого числа в восьмеричную строку.\n",
    "- `open(file, mode='r', buffering=None, encoding=None, errors=None, newline=None, closefd=True) `- Открывает файл и возвращает соответствующий поток.\n",
    "- `ord(с) `- Код символа.\n",
    "- `pow(x, y[, r]) `- ( x ** y ) % r.\n",
    "- `reversed(object) `- Итератор из развернутого объекта.\n",
    "- `repr(obj) `- Представление объекта.\n",
    "- `print([object, ...], *, sep=\" \", end=' ', file=sys.stdout) `- Печать.\n",
    "- `property(fget=None, fset=None, fdel=None, doc=None`)\n",
    "- `round(X [, N]) `- Округление до N знаков после запятой.\n",
    "- `setattr(объект, имя, значение) `- Устанавливает атрибут объекта.\n",
    "- `sorted(iterable[, key][, reverse]) `- Отсортированный список.\n",
    "- `staticmethod(function) `- Статический метод для функции.\n",
    "- `sum(iter, start=0) `- Сумма членов последовательности.\n",
    "- `super([тип [, объект или тип]]) `- Доступ к родительскому классу.\n",
    "- `type(object) `- Возвращает тип объекта.\n",
    "- `type(name, bases, dict) `- Возвращает новый экземпляр класса name.\n",
    "- `vars([object]) `- Словарь из атрибутов объекта. По умолчанию - словарь локальных имен.\n",
    "- `zip(*iters) `- Итератор, возвращающий кортежи, состоящие из соответствующих элементов аргументов-последовательностей."
   ]
  },
  {
   "cell_type": "code",
   "execution_count": 94,
   "id": "ec0c8be8",
   "metadata": {},
   "outputs": [
    {
     "data": {
      "text/plain": [
       "10"
      ]
     },
     "execution_count": 94,
     "metadata": {},
     "output_type": "execute_result"
    }
   ],
   "source": [
    "abs(-10)"
   ]
  },
  {
   "cell_type": "code",
   "execution_count": 98,
   "id": "9fb80052",
   "metadata": {},
   "outputs": [
    {
     "data": {
      "text/plain": [
       "'B'"
      ]
     },
     "execution_count": 98,
     "metadata": {},
     "output_type": "execute_result"
    }
   ],
   "source": [
    "chr(66)"
   ]
  },
  {
   "cell_type": "code",
   "execution_count": 99,
   "id": "b854f66a",
   "metadata": {},
   "outputs": [
    {
     "data": {
      "text/plain": [
       "66"
      ]
     },
     "execution_count": 99,
     "metadata": {},
     "output_type": "execute_result"
    }
   ],
   "source": [
    "ord('B')"
   ]
  },
  {
   "cell_type": "code",
   "execution_count": 101,
   "id": "5f7d09c9",
   "metadata": {},
   "outputs": [],
   "source": [
    "def sym_to_num(c):\n",
    "    return ord(c) - ord('0')"
   ]
  },
  {
   "cell_type": "code",
   "execution_count": 102,
   "id": "c24e6874",
   "metadata": {},
   "outputs": [
    {
     "data": {
      "text/plain": [
       "7"
      ]
     },
     "execution_count": 102,
     "metadata": {},
     "output_type": "execute_result"
    }
   ],
   "source": [
    "sym_to_num('7')"
   ]
  },
  {
   "cell_type": "code",
   "execution_count": 103,
   "id": "04c7e7db",
   "metadata": {},
   "outputs": [],
   "source": [
    "a = [10, 23, 15, 6]"
   ]
  },
  {
   "cell_type": "code",
   "execution_count": 106,
   "id": "2259e1d1",
   "metadata": {},
   "outputs": [
    {
     "name": "stdout",
     "output_type": "stream",
     "text": [
      "0 10\n",
      "1 23\n",
      "2 15\n",
      "3 6\n"
     ]
    }
   ],
   "source": [
    "for i, x in enumerate(a):\n",
    "    print(i, x)"
   ]
  },
  {
   "cell_type": "code",
   "execution_count": 107,
   "id": "49eb535d",
   "metadata": {},
   "outputs": [
    {
     "data": {
      "text/plain": [
       "4592384256"
      ]
     },
     "execution_count": 107,
     "metadata": {},
     "output_type": "execute_result"
    }
   ],
   "source": [
    "id(a)"
   ]
  },
  {
   "cell_type": "code",
   "execution_count": 108,
   "id": "e313a3dd",
   "metadata": {},
   "outputs": [],
   "source": [
    "b = a"
   ]
  },
  {
   "cell_type": "code",
   "execution_count": 109,
   "id": "6d9ed669",
   "metadata": {
    "scrolled": true
   },
   "outputs": [
    {
     "data": {
      "text/plain": [
       "4592384256"
      ]
     },
     "execution_count": 109,
     "metadata": {},
     "output_type": "execute_result"
    }
   ],
   "source": [
    "id(b)"
   ]
  },
  {
   "cell_type": "code",
   "execution_count": 110,
   "id": "99a3b133",
   "metadata": {},
   "outputs": [
    {
     "data": {
      "text/plain": [
       "[10, 23, 15, 6]"
      ]
     },
     "execution_count": 110,
     "metadata": {},
     "output_type": "execute_result"
    }
   ],
   "source": [
    "a"
   ]
  },
  {
   "cell_type": "code",
   "execution_count": 111,
   "id": "27ec030b",
   "metadata": {},
   "outputs": [],
   "source": [
    "b[0] = 20"
   ]
  },
  {
   "cell_type": "code",
   "execution_count": 112,
   "id": "4d7ae2af",
   "metadata": {},
   "outputs": [
    {
     "data": {
      "text/plain": [
       "[20, 23, 15, 6]"
      ]
     },
     "execution_count": 112,
     "metadata": {},
     "output_type": "execute_result"
    }
   ],
   "source": [
    "b"
   ]
  },
  {
   "cell_type": "code",
   "execution_count": 113,
   "id": "ea5cccdd",
   "metadata": {},
   "outputs": [
    {
     "data": {
      "text/plain": [
       "[20, 23, 15, 6]"
      ]
     },
     "execution_count": 113,
     "metadata": {},
     "output_type": "execute_result"
    }
   ],
   "source": [
    "a"
   ]
  },
  {
   "cell_type": "code",
   "execution_count": 114,
   "id": "af6ad655",
   "metadata": {},
   "outputs": [],
   "source": [
    "x = 10"
   ]
  },
  {
   "cell_type": "code",
   "execution_count": 115,
   "id": "3b9efdfc",
   "metadata": {},
   "outputs": [],
   "source": [
    "y = x"
   ]
  },
  {
   "cell_type": "code",
   "execution_count": 116,
   "id": "ac4d683f",
   "metadata": {},
   "outputs": [
    {
     "data": {
      "text/plain": [
       "4345883216"
      ]
     },
     "execution_count": 116,
     "metadata": {},
     "output_type": "execute_result"
    }
   ],
   "source": [
    "id(x)"
   ]
  },
  {
   "cell_type": "code",
   "execution_count": 117,
   "id": "9bfd3a51",
   "metadata": {},
   "outputs": [
    {
     "data": {
      "text/plain": [
       "4345883216"
      ]
     },
     "execution_count": 117,
     "metadata": {},
     "output_type": "execute_result"
    }
   ],
   "source": [
    "id(y)"
   ]
  },
  {
   "cell_type": "code",
   "execution_count": 118,
   "id": "bac30df1",
   "metadata": {},
   "outputs": [],
   "source": [
    "y = 20"
   ]
  },
  {
   "cell_type": "code",
   "execution_count": 119,
   "id": "781b9d9a",
   "metadata": {},
   "outputs": [
    {
     "data": {
      "text/plain": [
       "4345883536"
      ]
     },
     "execution_count": 119,
     "metadata": {},
     "output_type": "execute_result"
    }
   ],
   "source": [
    "id(y)"
   ]
  },
  {
   "cell_type": "code",
   "execution_count": 120,
   "id": "fa9cf43e",
   "metadata": {},
   "outputs": [
    {
     "name": "stdout",
     "output_type": "stream",
     "text": [
      "Введите код:2342\n"
     ]
    },
    {
     "data": {
      "text/plain": [
       "'2342'"
      ]
     },
     "execution_count": 120,
     "metadata": {},
     "output_type": "execute_result"
    }
   ],
   "source": [
    "input(\"Введите код:\")"
   ]
  },
  {
   "cell_type": "code",
   "execution_count": 121,
   "id": "92590349",
   "metadata": {},
   "outputs": [
    {
     "data": {
      "text/plain": [
       "4"
      ]
     },
     "execution_count": 121,
     "metadata": {},
     "output_type": "execute_result"
    }
   ],
   "source": [
    "len(a)"
   ]
  },
  {
   "cell_type": "code",
   "execution_count": 126,
   "id": "f5c43d5f",
   "metadata": {},
   "outputs": [
    {
     "name": "stdout",
     "output_type": "stream",
     "text": [
      "10 2 3 1423 123\n"
     ]
    },
    {
     "data": {
      "text/plain": [
       "[10, 2, 3, 1423, 123]"
      ]
     },
     "execution_count": 126,
     "metadata": {},
     "output_type": "execute_result"
    }
   ],
   "source": [
    "list(map(int, input().split()))"
   ]
  },
  {
   "cell_type": "code",
   "execution_count": 127,
   "id": "5708bfe3",
   "metadata": {},
   "outputs": [
    {
     "data": {
      "text/plain": [
       "23"
      ]
     },
     "execution_count": 127,
     "metadata": {},
     "output_type": "execute_result"
    }
   ],
   "source": [
    "max(a)"
   ]
  },
  {
   "cell_type": "code",
   "execution_count": 128,
   "id": "6db10980",
   "metadata": {},
   "outputs": [
    {
     "data": {
      "text/plain": [
       "6"
      ]
     },
     "execution_count": 128,
     "metadata": {},
     "output_type": "execute_result"
    }
   ],
   "source": [
    "min(a)"
   ]
  },
  {
   "cell_type": "code",
   "execution_count": 129,
   "id": "5fa8cb43",
   "metadata": {},
   "outputs": [
    {
     "data": {
      "text/plain": [
       "64"
      ]
     },
     "execution_count": 129,
     "metadata": {},
     "output_type": "execute_result"
    }
   ],
   "source": [
    "sum(a)"
   ]
  },
  {
   "cell_type": "markdown",
   "id": "03fa6c69",
   "metadata": {},
   "source": [
    "[Источник](https://pythonworld.ru/osnovy/vstroennye-funkcii.html)"
   ]
  }
 ],
 "metadata": {
  "kernelspec": {
   "display_name": "Python 3 (ipykernel)",
   "language": "python",
   "name": "python3"
  },
  "language_info": {
   "codemirror_mode": {
    "name": "ipython",
    "version": 3
   },
   "file_extension": ".py",
   "mimetype": "text/x-python",
   "name": "python",
   "nbconvert_exporter": "python",
   "pygments_lexer": "ipython3",
   "version": "3.9.7"
  }
 },
 "nbformat": 4,
 "nbformat_minor": 5
}
