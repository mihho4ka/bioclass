{
 "cells": [
  {
   "cell_type": "markdown",
   "id": "1c8c4fdb",
   "metadata": {},
   "source": [
    "# Домашняя работа, numpy\n",
    "\n",
    "__Дедлайн: 23 мая__\n",
    "\n",
    "Перед оформлением решений, их можно протестировать на платформе stepic: https://stepik.org/lesson/107131/step/11?unit=161041\n",
    "\n",
    "Сдавать ДЗ в гугл классрум, ссылка: https://classroom.google.com/c/NTE1NDE4MjM2MDg3?cjc=hhljzt4"
   ]
  },
  {
   "cell_type": "markdown",
   "id": "d95733ba",
   "metadata": {},
   "source": [
    "### Задача 1\n",
    "\n",
    "Считайте 2 числа n, m.\n",
    "\n",
    "Создайте вектор Z состоящий из чисел от n до m с шагом 1."
   ]
  },
  {
   "cell_type": "code",
   "execution_count": null,
   "id": "6720003d",
   "metadata": {},
   "outputs": [],
   "source": [
    "# ༼ つ ◕_◕ ༽つ"
   ]
  },
  {
   "cell_type": "markdown",
   "id": "8398c59a",
   "metadata": {},
   "source": [
    "### Задача 2\n",
    "\n",
    "Дан вектор Z\n",
    "\n",
    "\"Разверните\" его."
   ]
  },
  {
   "cell_type": "code",
   "execution_count": null,
   "id": "8d26115b",
   "metadata": {},
   "outputs": [],
   "source": [
    "# ༼ つ ◕_◕ ༽つ"
   ]
  },
  {
   "cell_type": "markdown",
   "id": "86c8b5af",
   "metadata": {},
   "source": [
    "### Задача 3\n",
    "\n",
    "Считайте 3 числа:\n",
    "\n",
    "n - количество элементов матрицы\n",
    "\n",
    "m и k - размеры матрицы (число строк и столбцов соответственно)\n",
    "\n",
    "Заполните матрицу Z числами от 0 до n-1 по порядку (сперва строки, потом столбцы).\n",
    "\n",
    "Гарантируется, что m*k = n, т.е. все элементы \"влезут\" в матрицу и не останется пустых мест."
   ]
  },
  {
   "cell_type": "code",
   "execution_count": null,
   "id": "2918506b",
   "metadata": {},
   "outputs": [],
   "source": [
    "# ༼ つ ◕_◕ ༽つ"
   ]
  },
  {
   "cell_type": "markdown",
   "id": "00993c57",
   "metadata": {},
   "source": [
    "### Задача 4\n",
    "\n",
    "Дан вектор Z\n",
    "\n",
    "Запишите в переменную NonZerros индексы ненулевых элементов.\n",
    "\n",
    "Используйте функцию https://docs.scipy.org/doc/numpy-1.15.0/reference/generated/numpy.nonzero.html"
   ]
  },
  {
   "cell_type": "code",
   "execution_count": null,
   "id": "3f0d6983",
   "metadata": {},
   "outputs": [],
   "source": [
    "# ༼ つ ◕_◕ ༽つ"
   ]
  },
  {
   "cell_type": "markdown",
   "id": "5a829842",
   "metadata": {},
   "source": [
    "### Задача 5\n",
    "\n",
    "Дана матрица чисел Z (Z может быть 1, 2 или даже 3 мерной).\n",
    "\n",
    "Выведите на печать список чисел из этой матрицы, которые больше 3."
   ]
  },
  {
   "cell_type": "code",
   "execution_count": null,
   "id": "e5b61c23",
   "metadata": {},
   "outputs": [],
   "source": [
    "# ༼ つ ◕_◕ ༽つ"
   ]
  }
 ],
 "metadata": {
  "kernelspec": {
   "display_name": "Python 3 (ipykernel)",
   "language": "python",
   "name": "python3"
  },
  "language_info": {
   "codemirror_mode": {
    "name": "ipython",
    "version": 3
   },
   "file_extension": ".py",
   "mimetype": "text/x-python",
   "name": "python",
   "nbconvert_exporter": "python",
   "pygments_lexer": "ipython3",
   "version": "3.9.7"
  }
 },
 "nbformat": 4,
 "nbformat_minor": 5
}
