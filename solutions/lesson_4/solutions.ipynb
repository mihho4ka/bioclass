{
 "cells": [
  {
   "cell_type": "code",
   "execution_count": 1,
   "id": "9c8d570b",
   "metadata": {},
   "outputs": [],
   "source": [
    "def nod(first, second):\n",
    "    if(first<second):\n",
    "        for i in range(first, 0, -1):\n",
    "            if(first%i==0 and second%i==0):\n",
    "                print(i)\n",
    "                break\n",
    "    else:\n",
    "        for i in range(second, 0, -1):\n",
    "            if(first%i==0 and second%i==0):\n",
    "                print(i)\n",
    "                break"
   ]
  },
  {
   "cell_type": "code",
   "execution_count": 4,
   "id": "82828dc6",
   "metadata": {},
   "outputs": [],
   "source": [
    "# Алгоритм Евклида\n",
    "def gcd(a, b):\n",
    "    if b == 0:\n",
    "        return a\n",
    "    return gcd(b, a % b)"
   ]
  },
  {
   "cell_type": "markdown",
   "id": "3e5344d8",
   "metadata": {},
   "source": [
    "$C_{n}^{k}=C_{n-1}^{k-1}+C_{n-1}^{k}, C_{n}^{0}=C_{n}^{n}=1$"
   ]
  },
  {
   "cell_type": "markdown",
   "id": "f5a73df1",
   "metadata": {},
   "source": [
    "$C_n^k = \\frac{n!}{(n-k)!k!}$"
   ]
  },
  {
   "cell_type": "code",
   "execution_count": 7,
   "id": "3c882358",
   "metadata": {},
   "outputs": [],
   "source": [
    "def binom(n, k):\n",
    "    if k == 0 or k == n:\n",
    "        return 1\n",
    "    return binom(n - 1, k - 1) + binom(n - 1, k)"
   ]
  },
  {
   "cell_type": "code",
   "execution_count": 8,
   "id": "3fe9c82d",
   "metadata": {
    "scrolled": true
   },
   "outputs": [
    {
     "data": {
      "text/plain": [
       "45"
      ]
     },
     "execution_count": 8,
     "metadata": {},
     "output_type": "execute_result"
    }
   ],
   "source": [
    "binom(10, 2)"
   ]
  },
  {
   "cell_type": "markdown",
   "id": "39b947e3",
   "metadata": {},
   "source": [
    "$a^n = a \\cdot a^{n-1}, n \\not\\vdots 2$\n",
    "\n",
    "$a^n = (a^{\\frac{n}{2}})^2, n \\vdots 2$"
   ]
  },
  {
   "cell_type": "markdown",
   "id": "866d66cc",
   "metadata": {},
   "source": [
    "$a^{-n} = \\frac{1}{a^n}$"
   ]
  },
  {
   "cell_type": "code",
   "execution_count": 10,
   "id": "06784c02",
   "metadata": {},
   "outputs": [],
   "source": [
    "def bin_pow(a, n):\n",
    "    if n == 0:\n",
    "        return 1\n",
    "    if n % 2 != 0:\n",
    "        return a * bin_pow(a, n - 1)\n",
    "    else:\n",
    "        t = bin_pow(a, n // 2)\n",
    "        return t * t"
   ]
  },
  {
   "cell_type": "code",
   "execution_count": 11,
   "id": "0599ea37",
   "metadata": {},
   "outputs": [
    {
     "data": {
      "text/plain": [
       "1024"
      ]
     },
     "execution_count": 11,
     "metadata": {},
     "output_type": "execute_result"
    }
   ],
   "source": [
    "bin_pow(2, 10)"
   ]
  }
 ],
 "metadata": {
  "kernelspec": {
   "display_name": "Python 3 (ipykernel)",
   "language": "python",
   "name": "python3"
  },
  "language_info": {
   "codemirror_mode": {
    "name": "ipython",
    "version": 3
   },
   "file_extension": ".py",
   "mimetype": "text/x-python",
   "name": "python",
   "nbconvert_exporter": "python",
   "pygments_lexer": "ipython3",
   "version": "3.9.7"
  }
 },
 "nbformat": 4,
 "nbformat_minor": 5
}
