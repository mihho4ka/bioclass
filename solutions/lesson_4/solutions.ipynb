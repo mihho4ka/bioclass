{
 "cells": [
  {
   "cell_type": "code",
   "execution_count": 1,
   "id": "3e3bba27",
   "metadata": {},
   "outputs": [],
   "source": [
    "def nod(first, second):\n",
    "    if(first<second):\n",
    "        for i in range(first, 0, -1):\n",
    "            if(first%i==0 and second%i==0):\n",
    "                print(i)\n",
    "                break\n",
    "    else:\n",
    "        for i in range(second, 0, -1):\n",
    "            if(first%i==0 and second%i==0):\n",
    "                print(i)\n",
    "                break"
   ]
  },
  {
   "cell_type": "code",
   "execution_count": 4,
   "id": "d92f23da",
   "metadata": {},
   "outputs": [],
   "source": [
    "# Алгоритм Евклида\n",
    "def gcd(a, b):\n",
    "    if b == 0:\n",
    "        return a\n",
    "    return gcd(b, a % b)"
   ]
  },
  {
   "cell_type": "markdown",
   "id": "cc23d85a",
   "metadata": {},
   "source": [
    "$C_{n}^{k}=C_{n-1}^{k-1}+C_{n-1}^{k}, C_{n}^{0}=C_{n}^{n}=1$"
   ]
  },
  {
   "cell_type": "markdown",
   "id": "8a0702eb",
   "metadata": {},
   "source": [
    "$C_n^k = \\frac{n!}{(n-k)!k!}$"
   ]
  },
  {
   "cell_type": "code",
   "execution_count": 7,
   "id": "7fa36d41",
   "metadata": {},
   "outputs": [],
   "source": [
    "def binom(n, k):\n",
    "    if k == 0 or k == n:\n",
    "        return 1\n",
    "    return binom(n - 1, k - 1) + binom(n - 1, k)"
   ]
  },
  {
   "cell_type": "code",
   "execution_count": 8,
   "id": "eb2656a5",
   "metadata": {
    "scrolled": true
   },
   "outputs": [
    {
     "data": {
      "text/plain": [
       "45"
      ]
     },
     "execution_count": 8,
     "metadata": {},
     "output_type": "execute_result"
    }
   ],
   "source": [
    "binom(10, 2)"
   ]
  },
  {
   "cell_type": "markdown",
   "id": "df5e2483",
   "metadata": {},
   "source": [
    "$a^n = a \\cdot a^{n-1}, n \\not\\vdots 2$\n",
    "\n",
    "$a^n = (a^{\\frac{n}{2}})^2, n \\vdots 2$"
   ]
  },
  {
   "cell_type": "markdown",
   "id": "772caf7e",
   "metadata": {},
   "source": [
    "$a^{-n} = \\frac{1}{a^n}$"
   ]
  },
  {
   "cell_type": "code",
   "execution_count": 10,
   "id": "9282e5bb",
   "metadata": {},
   "outputs": [],
   "source": [
    "def bin_pow(a, n):\n",
    "    if n == 0:\n",
    "        return 1\n",
    "    if n % 2 != 0:\n",
    "        return a * bin_pow(a, n - 1)\n",
    "    else:\n",
    "        t = bin_pow(a, n // 2)\n",
    "        return t * t"
   ]
  },
  {
   "cell_type": "code",
   "execution_count": 11,
   "id": "1686b269",
   "metadata": {
    "scrolled": true
   },
   "outputs": [
    {
     "data": {
      "text/plain": [
       "1024"
      ]
     },
     "execution_count": 11,
     "metadata": {},
     "output_type": "execute_result"
    }
   ],
   "source": [
    "bin_pow(2, 10)"
   ]
  },
  {
   "cell_type": "markdown",
   "id": "ddea206e",
   "metadata": {},
   "source": [
    "Задача №1418. Разные\n",
    "\n",
    "Дано N чисел, требуется выяснить, сколько среди них различных."
   ]
  },
  {
   "cell_type": "code",
   "execution_count": 12,
   "id": "929d44ba",
   "metadata": {},
   "outputs": [],
   "source": [
    "a = [1, 3, 3, 1, 2, 4, 2]"
   ]
  },
  {
   "cell_type": "code",
   "execution_count": 13,
   "id": "6c687f87",
   "metadata": {},
   "outputs": [],
   "source": [
    "a.sort()"
   ]
  },
  {
   "cell_type": "code",
   "execution_count": 14,
   "id": "41644c71",
   "metadata": {},
   "outputs": [
    {
     "data": {
      "text/plain": [
       "[1, 1, 2, 2, 3, 3, 4]"
      ]
     },
     "execution_count": 14,
     "metadata": {},
     "output_type": "execute_result"
    }
   ],
   "source": [
    "a"
   ]
  },
  {
   "cell_type": "code",
   "execution_count": 15,
   "id": "c72e9224",
   "metadata": {},
   "outputs": [
    {
     "name": "stdout",
     "output_type": "stream",
     "text": [
      "4\n"
     ]
    }
   ],
   "source": [
    "count = 1\n",
    "for i in range(1, len(a)):\n",
    "    if a[i] != a[i - 1]:\n",
    "        count += 1\n",
    "print(count)"
   ]
  },
  {
   "cell_type": "code",
   "execution_count": 18,
   "id": "3611f00f",
   "metadata": {},
   "outputs": [
    {
     "data": {
      "text/plain": [
       "4"
      ]
     },
     "execution_count": 18,
     "metadata": {},
     "output_type": "execute_result"
    }
   ],
   "source": [
    "len(set(a))"
   ]
  },
  {
   "cell_type": "code",
   "execution_count": null,
   "id": "951e4410",
   "metadata": {},
   "outputs": [],
   "source": []
  }
 ],
 "metadata": {
  "kernelspec": {
   "display_name": "Python 3 (ipykernel)",
   "language": "python",
   "name": "python3"
  },
  "language_info": {
   "codemirror_mode": {
    "name": "ipython",
    "version": 3
   },
   "file_extension": ".py",
   "mimetype": "text/x-python",
   "name": "python",
   "nbconvert_exporter": "python",
   "pygments_lexer": "ipython3",
   "version": "3.9.7"
  }
 },
 "nbformat": 4,
 "nbformat_minor": 5
}
