{
 "cells": [
  {
   "cell_type": "code",
   "execution_count": 6,
   "id": "93b9f48d",
   "metadata": {},
   "outputs": [
    {
     "name": "stdout",
     "output_type": "stream",
     "text": [
      "3\n",
      "20 80\n",
      "30 90\n",
      "25 90\n",
      "25 90\n",
      "30 90\n",
      "20 80\n"
     ]
    }
   ],
   "source": [
    "n = int(input())\n",
    "a = []\n",
    "for i in range(n):\n",
    "    ind_num, score = map(int, input().split())\n",
    "    a.append((-score, ind_num))\n",
    "a.sort()\n",
    "for i in range(len(a)):\n",
    "    print(a[i][1], -a[i][0])"
   ]
  }
 ],
 "metadata": {
  "kernelspec": {
   "display_name": "Python 3 (ipykernel)",
   "language": "python",
   "name": "python3"
  },
  "language_info": {
   "codemirror_mode": {
    "name": "ipython",
    "version": 3
   },
   "file_extension": ".py",
   "mimetype": "text/x-python",
   "name": "python",
   "nbconvert_exporter": "python",
   "pygments_lexer": "ipython3",
   "version": "3.9.7"
  }
 },
 "nbformat": 4,
 "nbformat_minor": 5
}
