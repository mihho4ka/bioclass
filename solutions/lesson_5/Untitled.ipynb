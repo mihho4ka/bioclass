{
 "cells": [
  {
   "cell_type": "code",
   "execution_count": 6,
   "id": "9e15b72f",
   "metadata": {},
   "outputs": [
    {
     "name": "stdout",
     "output_type": "stream",
     "text": [
      "3\n",
      "20 80\n",
      "30 90\n",
      "25 90\n",
      "25 90\n",
      "30 90\n",
      "20 80\n"
     ]
    }
   ],
   "source": [
    "n = int(input())\n",
    "a = []\n",
    "for i in range(n):\n",
    "    ind_num, score = map(int, input().split())\n",
    "    a.append((-score, ind_num))\n",
    "a.sort()\n",
    "for i in range(len(a)):\n",
    "    print(a[i][1], -a[i][0])"
   ]
  },
  {
   "cell_type": "code",
   "execution_count": 10,
   "id": "e6e9cf54",
   "metadata": {},
   "outputs": [
    {
     "name": "stdout",
     "output_type": "stream",
     "text": [
      "sharm\n",
      "marsh\n",
      "YES\n"
     ]
    }
   ],
   "source": [
    "s = input()\n",
    "t = input()\n",
    "if sorted(s) == sorted(t):\n",
    "    print(\"YES\")\n",
    "else:\n",
    "    print(\"NO\")"
   ]
  },
  {
   "cell_type": "code",
   "execution_count": null,
   "id": "3a73f910",
   "metadata": {},
   "outputs": [],
   "source": [
    "class Animal:\n",
    "    pass\n",
    "somebody = Animal()"
   ]
  },
  {
   "cell_type": "code",
   "execution_count": 11,
   "id": "85189981",
   "metadata": {},
   "outputs": [
    {
     "data": {
      "text/plain": [
       "'пиастры'"
      ]
     },
     "execution_count": 11,
     "metadata": {},
     "output_type": "execute_result"
    }
   ],
   "source": [
    "str.lower(\"Пиастры\")"
   ]
  },
  {
   "cell_type": "code",
   "execution_count": 12,
   "id": "2ce12b49",
   "metadata": {},
   "outputs": [
    {
     "data": {
      "text/plain": [
       "'ПИАСТРЫ'"
      ]
     },
     "execution_count": 12,
     "metadata": {},
     "output_type": "execute_result"
    }
   ],
   "source": [
    "str.upper(\"Пиастры\")"
   ]
  },
  {
   "cell_type": "code",
   "execution_count": 13,
   "id": "887d137a",
   "metadata": {},
   "outputs": [],
   "source": [
    "class Animal:\n",
    "    def echo(self, word):\n",
    "        print(str.upper(word))\n",
    "        print(word)\n",
    "        print(str.lower(word))"
   ]
  },
  {
   "cell_type": "code",
   "execution_count": null,
   "id": "66d070e0",
   "metadata": {},
   "outputs": [],
   "source": []
  }
 ],
 "metadata": {
  "kernelspec": {
   "display_name": "Python 3 (ipykernel)",
   "language": "python",
   "name": "python3"
  },
  "language_info": {
   "codemirror_mode": {
    "name": "ipython",
    "version": 3
   },
   "file_extension": ".py",
   "mimetype": "text/x-python",
   "name": "python",
   "nbconvert_exporter": "python",
   "pygments_lexer": "ipython3",
   "version": "3.9.7"
  }
 },
 "nbformat": 4,
 "nbformat_minor": 5
}
